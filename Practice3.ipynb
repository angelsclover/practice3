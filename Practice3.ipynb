{
 "cells": [
  {
   "cell_type": "markdown",
   "id": "37648b3c",
   "metadata": {},
   "source": [
    "### Practice3. 두 자리 자연수 나눗셈 코드"
   ]
  },
  {
   "cell_type": "markdown",
   "id": "85b88060",
   "metadata": {},
   "source": [
    "```python\n",
    "try:\n",
    "  a,b=map(int,input('숫자를 입력해주세요').split())\n",
    "except:\n",
    "  print('\\'숫자\\'를 넣어주지않겠니?')\n",
    "```"
   ]
  },
  {
   "cell_type": "markdown",
   "id": "2945f2fb",
   "metadata": {},
   "source": [
    "###### 두 개의 숫자를 입력받고, 입력받은 값이 숫자가 아니라면 오류 메시지를 출력한다."
   ]
  },
  {
   "cell_type": "markdown",
   "id": "da433f08",
   "metadata": {},
   "source": [
    "```python\n",
    "else:\n",
    "  try:\n",
    "    c=a/b\n",
    "  except:\n",
    "    print('숫자를 확인해보지않겠니?')\n",
    "  else:\n",
    "    print(f'{a}/{b}={c}')\n",
    "```"
   ]
  },
  {
   "cell_type": "markdown",
   "id": "32783a3f",
   "metadata": {},
   "source": [
    "###### 이후 나눗셈이 가능하다면 나눗셈 결과를 출력하고, 불가능하다면 오류 메시지를 출력한다."
   ]
  }
 ],
 "metadata": {
  "kernelspec": {
   "display_name": "Python 3 (ipykernel)",
   "language": "python",
   "name": "python3"
  },
  "language_info": {
   "codemirror_mode": {
    "name": "ipython",
    "version": 3
   },
   "file_extension": ".py",
   "mimetype": "text/x-python",
   "name": "python",
   "nbconvert_exporter": "python",
   "pygments_lexer": "ipython3",
   "version": "3.9.12"
  }
 },
 "nbformat": 4,
 "nbformat_minor": 5
}
